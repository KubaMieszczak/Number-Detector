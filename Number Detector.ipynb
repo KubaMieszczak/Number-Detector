{
 "cells": [
  {
   "cell_type": "code",
   "execution_count": 214,
   "id": "473ba83d",
   "metadata": {},
   "outputs": [],
   "source": [
    "import pandas as pd\n",
    "import numpy as np\n",
    "import matplotlib.pyplot as plt\n",
    "import seaborn as sns\n",
    "import tensorflow as tf\n",
    "from tensorflow import keras\n",
    "from sklearn.model_selection import train_test_split\n",
    "from tensorflow.keras.losses import CategoricalCrossentropy\n",
    "from tensorflow.keras.models import load_model\n",
    "from tensorflow.keras.metrics import Accuracy, Precision\n",
    "from sklearn.metrics import accuracy_score,precision_score\n",
    "import cv2\n",
    "from skimage import color\n",
    "from tensorflow.keras.applications.resnet50 import decode_predictions\n",
    "import os"
   ]
  },
  {
   "cell_type": "markdown",
   "id": "ebb21ff8",
   "metadata": {},
   "source": [
    "### Ogólny wgląd na dane"
   ]
  },
  {
   "cell_type": "code",
   "execution_count": 215,
   "id": "113e0163",
   "metadata": {},
   "outputs": [],
   "source": [
    "from sklearn.datasets import fetch_openml\n",
    "mnist_data = fetch_openml('mnist_784', version=1)"
   ]
  },
  {
   "cell_type": "code",
   "execution_count": 216,
   "id": "c95581ff",
   "metadata": {},
   "outputs": [
    {
     "data": {
      "text/html": [
       "<div>\n",
       "<style scoped>\n",
       "    .dataframe tbody tr th:only-of-type {\n",
       "        vertical-align: middle;\n",
       "    }\n",
       "\n",
       "    .dataframe tbody tr th {\n",
       "        vertical-align: top;\n",
       "    }\n",
       "\n",
       "    .dataframe thead th {\n",
       "        text-align: right;\n",
       "    }\n",
       "</style>\n",
       "<table border=\"1\" class=\"dataframe\">\n",
       "  <thead>\n",
       "    <tr style=\"text-align: right;\">\n",
       "      <th></th>\n",
       "      <th>pixel1</th>\n",
       "      <th>pixel2</th>\n",
       "      <th>pixel3</th>\n",
       "      <th>pixel4</th>\n",
       "      <th>pixel5</th>\n",
       "      <th>pixel6</th>\n",
       "      <th>pixel7</th>\n",
       "      <th>pixel8</th>\n",
       "      <th>pixel9</th>\n",
       "      <th>pixel10</th>\n",
       "      <th>...</th>\n",
       "      <th>pixel775</th>\n",
       "      <th>pixel776</th>\n",
       "      <th>pixel777</th>\n",
       "      <th>pixel778</th>\n",
       "      <th>pixel779</th>\n",
       "      <th>pixel780</th>\n",
       "      <th>pixel781</th>\n",
       "      <th>pixel782</th>\n",
       "      <th>pixel783</th>\n",
       "      <th>pixel784</th>\n",
       "    </tr>\n",
       "  </thead>\n",
       "  <tbody>\n",
       "    <tr>\n",
       "      <th>0</th>\n",
       "      <td>0.0</td>\n",
       "      <td>0.0</td>\n",
       "      <td>0.0</td>\n",
       "      <td>0.0</td>\n",
       "      <td>0.0</td>\n",
       "      <td>0.0</td>\n",
       "      <td>0.0</td>\n",
       "      <td>0.0</td>\n",
       "      <td>0.0</td>\n",
       "      <td>0.0</td>\n",
       "      <td>...</td>\n",
       "      <td>0.0</td>\n",
       "      <td>0.0</td>\n",
       "      <td>0.0</td>\n",
       "      <td>0.0</td>\n",
       "      <td>0.0</td>\n",
       "      <td>0.0</td>\n",
       "      <td>0.0</td>\n",
       "      <td>0.0</td>\n",
       "      <td>0.0</td>\n",
       "      <td>0.0</td>\n",
       "    </tr>\n",
       "    <tr>\n",
       "      <th>1</th>\n",
       "      <td>0.0</td>\n",
       "      <td>0.0</td>\n",
       "      <td>0.0</td>\n",
       "      <td>0.0</td>\n",
       "      <td>0.0</td>\n",
       "      <td>0.0</td>\n",
       "      <td>0.0</td>\n",
       "      <td>0.0</td>\n",
       "      <td>0.0</td>\n",
       "      <td>0.0</td>\n",
       "      <td>...</td>\n",
       "      <td>0.0</td>\n",
       "      <td>0.0</td>\n",
       "      <td>0.0</td>\n",
       "      <td>0.0</td>\n",
       "      <td>0.0</td>\n",
       "      <td>0.0</td>\n",
       "      <td>0.0</td>\n",
       "      <td>0.0</td>\n",
       "      <td>0.0</td>\n",
       "      <td>0.0</td>\n",
       "    </tr>\n",
       "    <tr>\n",
       "      <th>2</th>\n",
       "      <td>0.0</td>\n",
       "      <td>0.0</td>\n",
       "      <td>0.0</td>\n",
       "      <td>0.0</td>\n",
       "      <td>0.0</td>\n",
       "      <td>0.0</td>\n",
       "      <td>0.0</td>\n",
       "      <td>0.0</td>\n",
       "      <td>0.0</td>\n",
       "      <td>0.0</td>\n",
       "      <td>...</td>\n",
       "      <td>0.0</td>\n",
       "      <td>0.0</td>\n",
       "      <td>0.0</td>\n",
       "      <td>0.0</td>\n",
       "      <td>0.0</td>\n",
       "      <td>0.0</td>\n",
       "      <td>0.0</td>\n",
       "      <td>0.0</td>\n",
       "      <td>0.0</td>\n",
       "      <td>0.0</td>\n",
       "    </tr>\n",
       "    <tr>\n",
       "      <th>3</th>\n",
       "      <td>0.0</td>\n",
       "      <td>0.0</td>\n",
       "      <td>0.0</td>\n",
       "      <td>0.0</td>\n",
       "      <td>0.0</td>\n",
       "      <td>0.0</td>\n",
       "      <td>0.0</td>\n",
       "      <td>0.0</td>\n",
       "      <td>0.0</td>\n",
       "      <td>0.0</td>\n",
       "      <td>...</td>\n",
       "      <td>0.0</td>\n",
       "      <td>0.0</td>\n",
       "      <td>0.0</td>\n",
       "      <td>0.0</td>\n",
       "      <td>0.0</td>\n",
       "      <td>0.0</td>\n",
       "      <td>0.0</td>\n",
       "      <td>0.0</td>\n",
       "      <td>0.0</td>\n",
       "      <td>0.0</td>\n",
       "    </tr>\n",
       "    <tr>\n",
       "      <th>4</th>\n",
       "      <td>0.0</td>\n",
       "      <td>0.0</td>\n",
       "      <td>0.0</td>\n",
       "      <td>0.0</td>\n",
       "      <td>0.0</td>\n",
       "      <td>0.0</td>\n",
       "      <td>0.0</td>\n",
       "      <td>0.0</td>\n",
       "      <td>0.0</td>\n",
       "      <td>0.0</td>\n",
       "      <td>...</td>\n",
       "      <td>0.0</td>\n",
       "      <td>0.0</td>\n",
       "      <td>0.0</td>\n",
       "      <td>0.0</td>\n",
       "      <td>0.0</td>\n",
       "      <td>0.0</td>\n",
       "      <td>0.0</td>\n",
       "      <td>0.0</td>\n",
       "      <td>0.0</td>\n",
       "      <td>0.0</td>\n",
       "    </tr>\n",
       "    <tr>\n",
       "      <th>...</th>\n",
       "      <td>...</td>\n",
       "      <td>...</td>\n",
       "      <td>...</td>\n",
       "      <td>...</td>\n",
       "      <td>...</td>\n",
       "      <td>...</td>\n",
       "      <td>...</td>\n",
       "      <td>...</td>\n",
       "      <td>...</td>\n",
       "      <td>...</td>\n",
       "      <td>...</td>\n",
       "      <td>...</td>\n",
       "      <td>...</td>\n",
       "      <td>...</td>\n",
       "      <td>...</td>\n",
       "      <td>...</td>\n",
       "      <td>...</td>\n",
       "      <td>...</td>\n",
       "      <td>...</td>\n",
       "      <td>...</td>\n",
       "      <td>...</td>\n",
       "    </tr>\n",
       "    <tr>\n",
       "      <th>69995</th>\n",
       "      <td>0.0</td>\n",
       "      <td>0.0</td>\n",
       "      <td>0.0</td>\n",
       "      <td>0.0</td>\n",
       "      <td>0.0</td>\n",
       "      <td>0.0</td>\n",
       "      <td>0.0</td>\n",
       "      <td>0.0</td>\n",
       "      <td>0.0</td>\n",
       "      <td>0.0</td>\n",
       "      <td>...</td>\n",
       "      <td>0.0</td>\n",
       "      <td>0.0</td>\n",
       "      <td>0.0</td>\n",
       "      <td>0.0</td>\n",
       "      <td>0.0</td>\n",
       "      <td>0.0</td>\n",
       "      <td>0.0</td>\n",
       "      <td>0.0</td>\n",
       "      <td>0.0</td>\n",
       "      <td>0.0</td>\n",
       "    </tr>\n",
       "    <tr>\n",
       "      <th>69996</th>\n",
       "      <td>0.0</td>\n",
       "      <td>0.0</td>\n",
       "      <td>0.0</td>\n",
       "      <td>0.0</td>\n",
       "      <td>0.0</td>\n",
       "      <td>0.0</td>\n",
       "      <td>0.0</td>\n",
       "      <td>0.0</td>\n",
       "      <td>0.0</td>\n",
       "      <td>0.0</td>\n",
       "      <td>...</td>\n",
       "      <td>0.0</td>\n",
       "      <td>0.0</td>\n",
       "      <td>0.0</td>\n",
       "      <td>0.0</td>\n",
       "      <td>0.0</td>\n",
       "      <td>0.0</td>\n",
       "      <td>0.0</td>\n",
       "      <td>0.0</td>\n",
       "      <td>0.0</td>\n",
       "      <td>0.0</td>\n",
       "    </tr>\n",
       "    <tr>\n",
       "      <th>69997</th>\n",
       "      <td>0.0</td>\n",
       "      <td>0.0</td>\n",
       "      <td>0.0</td>\n",
       "      <td>0.0</td>\n",
       "      <td>0.0</td>\n",
       "      <td>0.0</td>\n",
       "      <td>0.0</td>\n",
       "      <td>0.0</td>\n",
       "      <td>0.0</td>\n",
       "      <td>0.0</td>\n",
       "      <td>...</td>\n",
       "      <td>0.0</td>\n",
       "      <td>0.0</td>\n",
       "      <td>0.0</td>\n",
       "      <td>0.0</td>\n",
       "      <td>0.0</td>\n",
       "      <td>0.0</td>\n",
       "      <td>0.0</td>\n",
       "      <td>0.0</td>\n",
       "      <td>0.0</td>\n",
       "      <td>0.0</td>\n",
       "    </tr>\n",
       "    <tr>\n",
       "      <th>69998</th>\n",
       "      <td>0.0</td>\n",
       "      <td>0.0</td>\n",
       "      <td>0.0</td>\n",
       "      <td>0.0</td>\n",
       "      <td>0.0</td>\n",
       "      <td>0.0</td>\n",
       "      <td>0.0</td>\n",
       "      <td>0.0</td>\n",
       "      <td>0.0</td>\n",
       "      <td>0.0</td>\n",
       "      <td>...</td>\n",
       "      <td>0.0</td>\n",
       "      <td>0.0</td>\n",
       "      <td>0.0</td>\n",
       "      <td>0.0</td>\n",
       "      <td>0.0</td>\n",
       "      <td>0.0</td>\n",
       "      <td>0.0</td>\n",
       "      <td>0.0</td>\n",
       "      <td>0.0</td>\n",
       "      <td>0.0</td>\n",
       "    </tr>\n",
       "    <tr>\n",
       "      <th>69999</th>\n",
       "      <td>0.0</td>\n",
       "      <td>0.0</td>\n",
       "      <td>0.0</td>\n",
       "      <td>0.0</td>\n",
       "      <td>0.0</td>\n",
       "      <td>0.0</td>\n",
       "      <td>0.0</td>\n",
       "      <td>0.0</td>\n",
       "      <td>0.0</td>\n",
       "      <td>0.0</td>\n",
       "      <td>...</td>\n",
       "      <td>0.0</td>\n",
       "      <td>0.0</td>\n",
       "      <td>0.0</td>\n",
       "      <td>0.0</td>\n",
       "      <td>0.0</td>\n",
       "      <td>0.0</td>\n",
       "      <td>0.0</td>\n",
       "      <td>0.0</td>\n",
       "      <td>0.0</td>\n",
       "      <td>0.0</td>\n",
       "    </tr>\n",
       "  </tbody>\n",
       "</table>\n",
       "<p>70000 rows × 784 columns</p>\n",
       "</div>"
      ],
      "text/plain": [
       "       pixel1  pixel2  pixel3  pixel4  pixel5  pixel6  pixel7  pixel8  pixel9  \\\n",
       "0         0.0     0.0     0.0     0.0     0.0     0.0     0.0     0.0     0.0   \n",
       "1         0.0     0.0     0.0     0.0     0.0     0.0     0.0     0.0     0.0   \n",
       "2         0.0     0.0     0.0     0.0     0.0     0.0     0.0     0.0     0.0   \n",
       "3         0.0     0.0     0.0     0.0     0.0     0.0     0.0     0.0     0.0   \n",
       "4         0.0     0.0     0.0     0.0     0.0     0.0     0.0     0.0     0.0   \n",
       "...       ...     ...     ...     ...     ...     ...     ...     ...     ...   \n",
       "69995     0.0     0.0     0.0     0.0     0.0     0.0     0.0     0.0     0.0   \n",
       "69996     0.0     0.0     0.0     0.0     0.0     0.0     0.0     0.0     0.0   \n",
       "69997     0.0     0.0     0.0     0.0     0.0     0.0     0.0     0.0     0.0   \n",
       "69998     0.0     0.0     0.0     0.0     0.0     0.0     0.0     0.0     0.0   \n",
       "69999     0.0     0.0     0.0     0.0     0.0     0.0     0.0     0.0     0.0   \n",
       "\n",
       "       pixel10  ...  pixel775  pixel776  pixel777  pixel778  pixel779  \\\n",
       "0          0.0  ...       0.0       0.0       0.0       0.0       0.0   \n",
       "1          0.0  ...       0.0       0.0       0.0       0.0       0.0   \n",
       "2          0.0  ...       0.0       0.0       0.0       0.0       0.0   \n",
       "3          0.0  ...       0.0       0.0       0.0       0.0       0.0   \n",
       "4          0.0  ...       0.0       0.0       0.0       0.0       0.0   \n",
       "...        ...  ...       ...       ...       ...       ...       ...   \n",
       "69995      0.0  ...       0.0       0.0       0.0       0.0       0.0   \n",
       "69996      0.0  ...       0.0       0.0       0.0       0.0       0.0   \n",
       "69997      0.0  ...       0.0       0.0       0.0       0.0       0.0   \n",
       "69998      0.0  ...       0.0       0.0       0.0       0.0       0.0   \n",
       "69999      0.0  ...       0.0       0.0       0.0       0.0       0.0   \n",
       "\n",
       "       pixel780  pixel781  pixel782  pixel783  pixel784  \n",
       "0           0.0       0.0       0.0       0.0       0.0  \n",
       "1           0.0       0.0       0.0       0.0       0.0  \n",
       "2           0.0       0.0       0.0       0.0       0.0  \n",
       "3           0.0       0.0       0.0       0.0       0.0  \n",
       "4           0.0       0.0       0.0       0.0       0.0  \n",
       "...         ...       ...       ...       ...       ...  \n",
       "69995       0.0       0.0       0.0       0.0       0.0  \n",
       "69996       0.0       0.0       0.0       0.0       0.0  \n",
       "69997       0.0       0.0       0.0       0.0       0.0  \n",
       "69998       0.0       0.0       0.0       0.0       0.0  \n",
       "69999       0.0       0.0       0.0       0.0       0.0  \n",
       "\n",
       "[70000 rows x 784 columns]"
      ]
     },
     "execution_count": 216,
     "metadata": {},
     "output_type": "execute_result"
    }
   ],
   "source": [
    "mnist_data['data']"
   ]
  },
  {
   "cell_type": "code",
   "execution_count": 217,
   "id": "81287354",
   "metadata": {},
   "outputs": [
    {
     "name": "stdout",
     "output_type": "stream",
     "text": [
      "Liczba jest równa 0\n",
      "Jej reprezentacja jako obrazu to AxesImage(80,52.8;496x369.6)\n"
     ]
    },
    {
     "data": {
      "image/png": "[encoded data removed]",
      "text/plain": [
       "<Figure size 640x480 with 1 Axes>"
      ]
     },
     "metadata": {},
     "output_type": "display_data"
    }
   ],
   "source": [
    "print('Liczba jest równa {}'.format(mnist_data['target'][1]))\n",
    "print('Jej reprezentacja jako obrazu to {}'.format(plt.imshow(mnist_data['data'].values[1].reshape(28,28),cmap='gray')))"
   ]
  },
  {
   "cell_type": "markdown",
   "id": "a94c3cb5",
   "metadata": {},
   "source": [
    "### Budowanie modelu "
   ]
  },
  {
   "cell_type": "code",
   "execution_count": 218,
   "id": "482e2825",
   "metadata": {},
   "outputs": [],
   "source": [
    "model=keras.Sequential()\n",
    "model.add(keras.layers.Dense(1000,activation='relu',input_shape=(28*28,)))\n",
    "model.add(keras.layers.Dense(250,activation='relu'))\n",
    "model.add(keras.layers.Dense(100,activation='relu'))\n",
    "model.add(keras.layers.Dense(50,activation='relu'))\n",
    "model.add(keras.layers.Dense(10,activation='Softmax'))\n",
    "model.compile('adam',loss='sparse_categorical_crossentropy',metrics='accuracy')"
   ]
  },
  {
   "cell_type": "code",
   "execution_count": 219,
   "id": "bd12ccc1",
   "metadata": {},
   "outputs": [
    {
     "name": "stdout",
     "output_type": "stream",
     "text": [
      "Model: \"sequential_3\"\n",
      "_________________________________________________________________\n",
      " Layer (type)                Output Shape              Param #   \n",
      "=================================================================\n",
      " dense_14 (Dense)            (None, 1000)              785000    \n",
      "                                                                 \n",
      " dense_15 (Dense)            (None, 250)               250250    \n",
      "                                                                 \n",
      " dense_16 (Dense)            (None, 100)               25100     \n",
      "                                                                 \n",
      " dense_17 (Dense)            (None, 50)                5050      \n",
      "                                                                 \n",
      " dense_18 (Dense)            (None, 10)                510       \n",
      "                                                                 \n",
      "=================================================================\n",
      "Total params: 1,065,910\n",
      "Trainable params: 1,065,910\n",
      "Non-trainable params: 0\n",
      "_________________________________________________________________\n",
      "None\n"
     ]
    }
   ],
   "source": [
    "print(model.summary())"
   ]
  },
  {
   "cell_type": "code",
   "execution_count": 220,
   "id": "cd285dc5",
   "metadata": {},
   "outputs": [],
   "source": [
    "X=[mnist_data['data'].values[x].reshape(784,) for x in range(mnist_data['data'].shape[0])]\n",
    "y=mnist_data['target'].astype(int)\n",
    "\n",
    "X_train, X_test, y_train,y_test=train_test_split(X,y,random_state=41,test_size=0.1)\n",
    "X_train=np.array(X_train)"
   ]
  },
  {
   "cell_type": "code",
   "execution_count": 221,
   "id": "7c6a79fd",
   "metadata": {
    "scrolled": true
   },
   "outputs": [
    {
     "name": "stdout",
     "output_type": "stream",
     "text": [
      "Epoch 1/10\n",
      "1969/1969 [==============================] - 20s 9ms/step - loss: 0.5886 - accuracy: 0.9092\n",
      "Epoch 2/10\n",
      "1969/1969 [==============================] - 17s 8ms/step - loss: 0.1755 - accuracy: 0.9520\n",
      "Epoch 3/10\n",
      "1969/1969 [==============================] - 17s 8ms/step - loss: 0.1414 - accuracy: 0.9616\n",
      "Epoch 4/10\n",
      "1969/1969 [==============================] - 18s 9ms/step - loss: 0.1088 - accuracy: 0.9700\n",
      "Epoch 5/10\n",
      "1969/1969 [==============================] - 18s 9ms/step - loss: 0.0967 - accuracy: 0.9744\n",
      "Epoch 6/10\n",
      "1969/1969 [==============================] - 19s 10ms/step - loss: 0.0805 - accuracy: 0.9780\n",
      "Epoch 7/10\n",
      "1969/1969 [==============================] - 20s 10ms/step - loss: 0.0718 - accuracy: 0.9809\n",
      "Epoch 8/10\n",
      "1969/1969 [==============================] - 18s 9ms/step - loss: 0.0636 - accuracy: 0.9832\n",
      "Epoch 9/10\n",
      "1969/1969 [==============================] - 17s 9ms/step - loss: 0.0580 - accuracy: 0.9849\n",
      "Epoch 10/10\n",
      "1969/1969 [==============================] - 19s 10ms/step - loss: 0.0505 - accuracy: 0.9869\n"
     ]
    },
    {
     "data": {
      "text/plain": [
       "<keras.callbacks.History at 0x12e73a81dc0>"
      ]
     },
     "execution_count": 221,
     "metadata": {},
     "output_type": "execute_result"
    }
   ],
   "source": [
    "model.fit(X_train,y_train,epochs=10)\n",
    "#dokładność modelu na poziomie 98.7%"
   ]
  },
  {
   "cell_type": "markdown",
   "id": "691ad70d",
   "metadata": {},
   "source": [
    "###  Sprawdzanie skuteczności modelu na niewidzianych danych"
   ]
  },
  {
   "cell_type": "code",
   "execution_count": 222,
   "id": "1621e89c",
   "metadata": {},
   "outputs": [
    {
     "name": "stdout",
     "output_type": "stream",
     "text": [
      "219/219 [==============================] - 3s 3ms/step\n",
      "Skuteczność modelu na danych testowych: 100.0%\n"
     ]
    }
   ],
   "source": [
    "y_pred=model.predict(np.array(X_test))\n",
    "y_pred=np.array([np.where(elem==elem.max())[0][0] for elem in y_pred])\n",
    "y_test=np.array(y_test)\n",
    "\n",
    "def score(y_test,y_pred):\n",
    "    wynik=0\n",
    "    cal=len(y_test)\n",
    "    for elem in y_pred:\n",
    "        if y_pred[elem]==y_test[elem]:\n",
    "            wynik=wynik+1\n",
    "    return (wynik/cal)*100\n",
    "print('Skuteczność modelu na danych testowych: {}%'.format(score(y_test,y_pred)))"
   ]
  },
  {
   "cell_type": "code",
   "execution_count": 223,
   "id": "35e12dee",
   "metadata": {},
   "outputs": [
    {
     "name": "stdout",
     "output_type": "stream",
     "text": [
      "219/219 [==============================] - 3s 3ms/step\n"
     ]
    },
    {
     "data": {
      "text/plain": [
       "0.9907085"
      ]
     },
     "execution_count": 223,
     "metadata": {},
     "output_type": "execute_result"
    }
   ],
   "source": [
    "model.predict(np.array(X_test))[850].max()"
   ]
  },
  {
   "cell_type": "markdown",
   "id": "6933b5b5",
   "metadata": {},
   "source": [
    "### Zapisywanie modelu"
   ]
  },
  {
   "cell_type": "code",
   "execution_count": 224,
   "id": "bcdfc1ef",
   "metadata": {},
   "outputs": [],
   "source": [
    "model.save('rozponawanie_liczb.h5')\n",
    "mój_model=load_model('rozponawanie_liczb.h5')"
   ]
  },
  {
   "cell_type": "code",
   "execution_count": 225,
   "id": "09f48906",
   "metadata": {},
   "outputs": [
    {
     "name": "stdout",
     "output_type": "stream",
     "text": [
      "[2]\n"
     ]
    },
    {
     "data": {
      "text/plain": [
       "<matplotlib.image.AxesImage at 0x12e7dd51f70>"
      ]
     },
     "execution_count": 225,
     "metadata": {},
     "output_type": "execute_result"
    },
    {
     "data": {
      "image/png": "[encoded data removed]",
      "text/plain": [
       "<Figure size 640x480 with 1 Axes>"
      ]
     },
     "metadata": {},
     "output_type": "display_data"
    }
   ],
   "source": [
    "print(wynik[22])\n",
    "plt.imshow(X_test[22].reshape(28,28),cmap='gray')"
   ]
  },
  {
   "cell_type": "markdown",
   "id": "30dde63e",
   "metadata": {},
   "source": [
    "### Budowanie algorytmu rozpoznającego liczby które napiszemy"
   ]
  },
  {
   "cell_type": "code",
   "execution_count": 226,
   "id": "ca3552bb",
   "metadata": {},
   "outputs": [],
   "source": [
    "def detect(obraz):\n",
    "    maxy=0\n",
    "    wynik=model.predict(np.array([obraz]))\n",
    "    wynik=list(wynik.reshape(wynik.shape[0]*wynik.shape[1],))\n",
    "    for el in wynik:\n",
    "        if el>maxy:\n",
    "            maxy=el\n",
    "    suma=0\n",
    "    for elem in wynik:\n",
    "        if elem !=maxy:\n",
    "            suma=suma+1\n",
    "        if elem ==maxy:\n",
    "            suma_ost=suma\n",
    "    return suma_ost"
   ]
  },
  {
   "cell_type": "code",
   "execution_count": null,
   "id": "59b476f0",
   "metadata": {},
   "outputs": [
    {
     "name": "stdout",
     "output_type": "stream",
     "text": [
      "####################################################################################################\n",
      "    1. Wyjaśnienie działania programu\n",
      "    2. Wczytaj obraz\n",
      "    3. Start\n",
      "    4. Wyświetl wybrany obraz\n",
      "    5. Wyjdź\n",
      "####################################################################################################\n"
     ]
    }
   ],
   "source": [
    "def menu(img=0):\n",
    "    print('#' * 100)\n",
    "    print('    1. Wyjaśnienie działania programu')\n",
    "    print('    2. Wczytaj obraz')\n",
    "    print('    3. Start')\n",
    "    print('    4. Wyświetl wybrany obraz')\n",
    "    print('    5. Wyjdź')\n",
    "    print('#' * 100)\n",
    "    x = int(input('    '))\n",
    "    if x == 1:\n",
    "        print(\n",
    "            'Wczytaj z wybranego foldera (Cyfry) obraz o rozmiarze 28x28, następnie wybierz \"Start\" i zobacz czy program przewidział twoją liczbę')\n",
    "        q = input('Wpisz \"q\" żeby wyjść')\n",
    "        if q == 'q':\n",
    "            menu()\n",
    "    if x == 2:\n",
    "        # ustawienie ścieżki do foldera\n",
    "        path = \"C:/Users/ADMIN/Desktop/Cyfry\"\n",
    "        images = os.listdir(path)\n",
    "        # wyświetlenie dostępnych plików\n",
    "        print('Lista dostępnuch plików: ')\n",
    "        index = 0\n",
    "        slownik = {}\n",
    "        for elem in images:\n",
    "            print('{}. {}'.format(index, elem))\n",
    "            slownik[index] = elem\n",
    "            index = index + 1\n",
    "        # wybranie pliku do detekcji\n",
    "        x = int(input('Wybierz numer pliku: \\n'))\n",
    "        wybrane = slownik[x]\n",
    "        print('Wybrany plik: {}\\n'.format(wybrane))\n",
    "        # wczytanie pliku\n",
    "        img = cv2.imread(path + '/' + wybrane)\n",
    "\n",
    "        menu(img=img)\n",
    "    if x == 3:\n",
    "        img = color.rgb2gray(img)\n",
    "        img = np.array((img * 255).reshape(784, ))\n",
    "        print('Przewidziana liczba to: {}'.format(detect(img)))\n",
    "        # pierwsze funkcja która przerobi odebrany obraz na odpowiednie rozmiary i przewidzi wynik\n",
    "        # potem funckcja która pokaże jaka to liczba\n",
    "        menu(img=img)\n",
    "    if x == 4:\n",
    "        plt.imshow(img)\n",
    "        plt.show()\n",
    "        q = input('Wpisz \"q\" żeby wrócić do menu: ')\n",
    "        if q == 'q':\n",
    "            menu()\n",
    "menu()"
   ]
  },
  {
   "cell_type": "markdown",
   "id": "8bd5e97f",
   "metadata": {},
   "source": [
    "### Funkcja którą można włączyć w terminalu jest dostępna w pliku https://github.com/KubaMieszczak/Programming/blob/main/Number%20Detector/number_detector.py na github"
   ]
  }
 ],
 "metadata": {
  "kernelspec": {
   "display_name": "Python 3 (ipykernel)",
   "language": "python",
   "name": "python3"
  },
  "language_info": {
   "codemirror_mode": {
    "name": "ipython",
    "version": 3
   },
   "file_extension": ".py",
   "mimetype": "text/x-python",
   "name": "python",
   "nbconvert_exporter": "python",
   "pygments_lexer": "ipython3",
   "version": "3.9.13"
  }
 },
 "nbformat": 4,
 "nbformat_minor": 5
}
